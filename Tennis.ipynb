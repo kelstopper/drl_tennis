{
 "cells": [
  {
   "cell_type": "markdown",
   "metadata": {},
   "source": [
    "# Collaboration and Competition\n",
    "\n",
    "---\n",
    "\n",
    "In this notebook, you will learn how to use the Unity ML-Agents environment for the third project of the [Deep Reinforcement Learning Nanodegree](https://www.udacity.com/course/deep-reinforcement-learning-nanodegree--nd893) program.\n",
    "\n",
    "### 1. Start the Environment\n",
    "\n",
    "We begin by importing the necessary packages.  If the code cell below returns an error, please revisit the project instructions to double-check that you have installed [Unity ML-Agents](https://github.com/Unity-Technologies/ml-agents/blob/master/docs/Installation.md) and [NumPy](http://www.numpy.org/)."
   ]
  },
  {
   "cell_type": "code",
   "execution_count": 1,
   "metadata": {},
   "outputs": [],
   "source": [
    "from unityagents import UnityEnvironment\n",
    "import numpy as np"
   ]
  },
  {
   "cell_type": "markdown",
   "metadata": {},
   "source": [
    "Next, we will start the environment!  **_Before running the code cell below_**, change the `file_name` parameter to match the location of the Unity environment that you downloaded.\n",
    "\n",
    "- **Mac**: `\"path/to/Tennis.app\"`\n",
    "- **Windows** (x86): `\"path/to/Tennis_Windows_x86/Tennis.exe\"`\n",
    "- **Windows** (x86_64): `\"path/to/Tennis_Windows_x86_64/Tennis.exe\"`\n",
    "- **Linux** (x86): `\"path/to/Tennis_Linux/Tennis.x86\"`\n",
    "- **Linux** (x86_64): `\"path/to/Tennis_Linux/Tennis.x86_64\"`\n",
    "- **Linux** (x86, headless): `\"path/to/Tennis_Linux_NoVis/Tennis.x86\"`\n",
    "- **Linux** (x86_64, headless): `\"path/to/Tennis_Linux_NoVis/Tennis.x86_64\"`\n",
    "\n",
    "For instance, if you are using a Mac, then you downloaded `Tennis.app`.  If this file is in the same folder as the notebook, then the line below should appear as follows:\n",
    "```\n",
    "env = UnityEnvironment(file_name=\"Tennis.app\")\n",
    "```"
   ]
  },
  {
   "cell_type": "code",
   "execution_count": 2,
   "metadata": {},
   "outputs": [
    {
     "name": "stderr",
     "output_type": "stream",
     "text": [
      "INFO:unityagents:\n",
      "'Academy' started successfully!\n",
      "Unity Academy name: Academy\n",
      "        Number of Brains: 1\n",
      "        Number of External Brains : 1\n",
      "        Lesson number : 0\n",
      "        Reset Parameters :\n",
      "\t\t\n",
      "Unity brain name: TennisBrain\n",
      "        Number of Visual Observations (per agent): 0\n",
      "        Vector Observation space type: continuous\n",
      "        Vector Observation space size (per agent): 8\n",
      "        Number of stacked Vector Observation: 3\n",
      "        Vector Action space type: continuous\n",
      "        Vector Action space size (per agent): 2\n",
      "        Vector Action descriptions: , \n"
     ]
    }
   ],
   "source": [
    "env = UnityEnvironment(file_name=\"app/Tennis.app\")"
   ]
  },
  {
   "cell_type": "markdown",
   "metadata": {},
   "source": [
    "Environments contain **_brains_** which are responsible for deciding the actions of their associated agents. Here we check for the first brain available, and set it as the default brain we will be controlling from Python."
   ]
  },
  {
   "cell_type": "code",
   "execution_count": 3,
   "metadata": {},
   "outputs": [],
   "source": [
    "# get the default brain\n",
    "brain_name = env.brain_names[0]\n",
    "brain = env.brains[brain_name]"
   ]
  },
  {
   "cell_type": "markdown",
   "metadata": {},
   "source": [
    "### 2. Examine the State and Action Spaces\n",
    "\n",
    "In this environment, two agents control rackets to bounce a ball over a net. If an agent hits the ball over the net, it receives a reward of +0.1.  If an agent lets a ball hit the ground or hits the ball out of bounds, it receives a reward of -0.01.  Thus, the goal of each agent is to keep the ball in play.\n",
    "\n",
    "The observation space consists of 8 variables corresponding to the position and velocity of the ball and racket. Two continuous actions are available, corresponding to movement toward (or away from) the net, and jumping. \n",
    "\n",
    "Run the code cell below to print some information about the environment."
   ]
  },
  {
   "cell_type": "code",
   "execution_count": 4,
   "metadata": {},
   "outputs": [
    {
     "name": "stdout",
     "output_type": "stream",
     "text": [
      "Number of agents: 2\n",
      "Size of each action: 2\n",
      "There are 2 agents. Each observes a state with length: 24\n",
      "The state for the first agent looks like: [ 0.          0.          0.          0.          0.          0.\n",
      "  0.          0.          0.          0.          0.          0.\n",
      "  0.          0.          0.          0.         -6.65278625 -1.5\n",
      " -0.          0.          6.83172083  6.         -0.          0.        ]\n"
     ]
    }
   ],
   "source": [
    "# reset the environment\n",
    "env_info = env.reset(train_mode=True)[brain_name]\n",
    "\n",
    "# number of agents \n",
    "num_agents = len(env_info.agents)\n",
    "print('Number of agents:', num_agents)\n",
    "\n",
    "# size of each action\n",
    "action_size = brain.vector_action_space_size\n",
    "print('Size of each action:', action_size)\n",
    "\n",
    "# examine the state space \n",
    "states = env_info.vector_observations\n",
    "state_size = states.shape[1]\n",
    "print('There are {} agents. Each observes a state with length: {}'.format(states.shape[0], state_size))\n",
    "print('The state for the first agent looks like:', states[0])"
   ]
  },
  {
   "cell_type": "markdown",
   "metadata": {},
   "source": [
    "### 3. Take Random Actions in the Environment\n",
    "\n",
    "In the next code cell, you will learn how to use the Python API to control the agents and receive feedback from the environment.\n",
    "\n",
    "Once this cell is executed, you will watch the agents' performance, if they select actions at random with each time step.  A window should pop up that allows you to observe the agents.\n",
    "\n",
    "Of course, as part of the project, you'll have to change the code so that the agents are able to use their experiences to gradually choose better actions when interacting with the environment!"
   ]
  },
  {
   "cell_type": "code",
   "execution_count": 5,
   "metadata": {},
   "outputs": [],
   "source": [
    "# for i in range(1, 6):                                      # play game for 5 episodes\n",
    "#     env_info = env.reset(train_mode=False)[brain_name]     # reset the environment    \n",
    "#     states = env_info.vector_observations                  # get the current state (for each agent)\n",
    "#     scores = np.zeros(num_agents)                          # initialize the score (for each agent)\n",
    "#     while True:\n",
    "#         actions = np.random.randn(num_agents, action_size) # select an action (for each agent)\n",
    "#         actions = np.clip(actions, -1, 1)                  # all actions between -1 and 1\n",
    "#         env_info = env.step(actions)[brain_name]           # send all actions to tne environment\n",
    "#         next_states = env_info.vector_observations         # get next state (for each agent)\n",
    "#         rewards = env_info.rewards                         # get reward (for each agent)\n",
    "#         dones = env_info.local_done                        # see if episode finished\n",
    "#         scores += env_info.rewards                         # update the score (for each agent)\n",
    "#         states = next_states                               # roll over states to next time step\n",
    "#         if np.any(dones):                                  # exit loop if episode finished\n",
    "#             break\n",
    "#     print('Score (max over agents) from episode {}: {}'.format(i, np.max(scores)))"
   ]
  },
  {
   "cell_type": "markdown",
   "metadata": {},
   "source": [
    "When finished, you can close the environment."
   ]
  },
  {
   "cell_type": "code",
   "execution_count": 6,
   "metadata": {},
   "outputs": [],
   "source": [
    "# env.close()"
   ]
  },
  {
   "cell_type": "markdown",
   "metadata": {},
   "source": [
    "### 4. It's Your Turn!\n",
    "\n",
    "Now it's your turn to train your own agent to solve the environment!  When training the environment, set `train_mode=True`, so that the line for resetting the environment looks like the following:\n",
    "```python\n",
    "env_info = env.reset(train_mode=True)[brain_name]\n",
    "```"
   ]
  },
  {
   "cell_type": "markdown",
   "metadata": {},
   "source": [
    "### Create the agent\n",
    "\n",
    "Most of the model and ddpg agent code are located in the associated python files `model.py` && `ddpg_agent.py`\n",
    "\n",
    "`model.py` contains two models `Actor` && `Critic`\n",
    "\n",
    "`ddpg_agent.py` contains the agent(s) used in the below example. `Agent` && `MultiAgent`\n",
    "\n",
    "`Agent` is a fairly standard DDPG agent, where `MultiAgent` uses certain features of the DDPG agent but introduces different a learning strategy based on whether the Critic will be updated across the board or per Agent."
   ]
  },
  {
   "cell_type": "code",
   "execution_count": 12,
   "metadata": {},
   "outputs": [
    {
     "name": "stdout",
     "output_type": "stream",
     "text": [
      "BUFFER_SIZE: 100000\n",
      "BATCH_SIZE: 128\n",
      "GAMMA: 0.99\n",
      "TAU: 0.001\n",
      "LR_ACTOR: 0.0001\n",
      "LR_CRITIC: 0.0003\n",
      "WEIGHT_DECAY: 0\n",
      "UPDATE_EVERY: 1\n",
      "UPDATE_TIMES: 1\n"
     ]
    }
   ],
   "source": [
    "from ddqn_agent import Agent\n",
    "agent = Agent(state_size=24, action_size=2, random_seed=2, num_agents=2)"
   ]
  },
  {
   "cell_type": "markdown",
   "metadata": {},
   "source": [
    "### Run the environment\n",
    "\n",
    "The following cell runs the environment in a fairly standard way as well. For each episode it runs for a maximum of `max_t` timesteps. Within each timestep we:\n",
    "\n",
    "- use the agent to act on the vector observations\n",
    "- pass those to the environment and collect the new environment info\n",
    "- assign new vars for next_states, rewards and if there are any done agents\n",
    "- add to the score\n",
    "- step the agent with the new & old states, rewards and done list\n",
    "- move the new states to the state object for next actions and repeat"
   ]
  },
  {
   "cell_type": "code",
   "execution_count": 14,
   "metadata": {},
   "outputs": [
    {
     "name": "stdout",
     "output_type": "stream",
     "text": [
      "Episode 50\tAverage Score: 0.00\tAverage Time Per Episode: 0:00:00.428161\tTime to Complete: 00:35:19\n",
      "Episode 100\tAverage Score: 0.00\tAverage Time Per Episode: 0:00:00.420742\tTime to Complete: 00:34:21\n",
      "Episode 150\tAverage Score: 0.00\tAverage Time Per Episode: 0:00:00.423506\tTime to Complete: 00:34:14\n",
      "Episode 200\tAverage Score: 0.00\tAverage Time Per Episode: 0:00:00.439603\tTime to Complete: 00:35:10\n",
      "Episode 250\tAverage Score: 0.00\tAverage Time Per Episode: 0:00:00.442601\tTime to Complete: 00:35:02\n",
      "Episode 300\tAverage Score: 0.00\tAverage Time Per Episode: 0:00:00.443892\tTime to Complete: 00:34:46\n",
      "Episode 350\tAverage Score: 0.00\tAverage Time Per Episode: 0:00:00.448061\tTime to Complete: 00:34:43\n",
      "Episode 400\tAverage Score: 0.00\tAverage Time Per Episode: 0:00:00.448277\tTime to Complete: 00:34:22\n",
      "Episode 450\tAverage Score: 0.00\tAverage Time Per Episode: 0:00:00.448657\tTime to Complete: 00:34:01\n",
      "Episode 500\tAverage Score: 0.00\tAverage Time Per Episode: 0:00:00.449011\tTime to Complete: 00:33:40\n",
      "Episode 550\tAverage Score: 0.00\tAverage Time Per Episode: 0:00:00.450576\tTime to Complete: 00:33:25\n",
      "Episode 600\tAverage Score: 0.00\tAverage Time Per Episode: 0:00:00.457570\tTime to Complete: 00:33:33\n",
      "Episode 650\tAverage Score: 0.01\tAverage Time Per Episode: 0:00:00.466233\tTime to Complete: 00:33:48\n",
      "Episode 700\tAverage Score: 0.01\tAverage Time Per Episode: 0:00:00.467271\tTime to Complete: 00:33:29\n",
      "Episode 750\tAverage Score: 0.00\tAverage Time Per Episode: 0:00:00.468380\tTime to Complete: 00:33:10\n",
      "Episode 800\tAverage Score: 0.00\tAverage Time Per Episode: 0:00:00.469244\tTime to Complete: 00:32:50\n",
      "Episode 850\tAverage Score: 0.00\tAverage Time Per Episode: 0:00:00.470189\tTime to Complete: 00:32:31\n",
      "Episode 900\tAverage Score: 0.00\tAverage Time Per Episode: 0:00:00.473337\tTime to Complete: 00:32:20\n",
      "Episode 950\tAverage Score: 0.00\tAverage Time Per Episode: 0:00:00.474568\tTime to Complete: 00:32:02\n",
      "Episode 1000\tAverage Score: 0.00\tAverage Time Per Episode: 0:00:00.476640\tTime to Complete: 00:31:46\n",
      "Episode 1050\tAverage Score: 0.01\tAverage Time Per Episode: 0:00:00.480786\tTime to Complete: 00:31:39\n",
      "Episode 1100\tAverage Score: 0.01\tAverage Time Per Episode: 0:00:00.486150\tTime to Complete: 00:31:35\n",
      "Episode 1150\tAverage Score: 0.02\tAverage Time Per Episode: 0:00:00.497127\tTime to Complete: 00:31:53\n",
      "Episode 1200\tAverage Score: 0.04\tAverage Time Per Episode: 0:00:00.509663\tTime to Complete: 00:32:16\n",
      "Episode 1250\tAverage Score: 0.04\tAverage Time Per Episode: 0:00:00.517955\tTime to Complete: 00:32:22\n",
      "Episode 1300\tAverage Score: 0.03\tAverage Time Per Episode: 0:00:00.524495\tTime to Complete: 00:32:20\n",
      "Episode 1350\tAverage Score: 0.05\tAverage Time Per Episode: 0:00:00.537160\tTime to Complete: 00:32:40\n",
      "Episode 1400\tAverage Score: 0.08\tAverage Time Per Episode: 0:00:00.556176\tTime to Complete: 00:33:22\n",
      "Episode 1450\tAverage Score: 0.09\tAverage Time Per Episode: 0:00:00.575965\tTime to Complete: 00:34:04\n",
      "Episode 1500\tAverage Score: 0.09\tAverage Time Per Episode: 0:00:00.593548\tTime to Complete: 00:34:37\n",
      "Episode 1550\tAverage Score: 0.09\tAverage Time Per Episode: 0:00:00.610319\tTime to Complete: 00:35:05\n",
      "Episode 1600\tAverage Score: 0.10\tAverage Time Per Episode: 0:00:00.624905\tTime to Complete: 00:35:24\n",
      "Episode 1650\tAverage Score: 0.09\tAverage Time Per Episode: 0:00:00.639304\tTime to Complete: 00:35:41\n",
      "Episode 1700\tAverage Score: 0.09\tAverage Time Per Episode: 0:00:00.655536\tTime to Complete: 00:36:03\n",
      "Episode 1750\tAverage Score: 0.09\tAverage Time Per Episode: 0:00:00.671874\tTime to Complete: 00:36:23\n",
      "Episode 1800\tAverage Score: 0.10\tAverage Time Per Episode: 0:00:00.690179\tTime to Complete: 00:36:48\n",
      "Episode 1850\tAverage Score: 0.10\tAverage Time Per Episode: 0:00:00.712096\tTime to Complete: 00:37:23\n",
      "Episode 1900\tAverage Score: 0.10\tAverage Time Per Episode: 0:00:00.740915\tTime to Complete: 00:38:16\n",
      "Episode 1950\tAverage Score: 0.12\tAverage Time Per Episode: 0:00:00.784499\tTime to Complete: 00:39:52\n",
      "Episode 2000\tAverage Score: 0.19\tAverage Time Per Episode: 0:00:00.871137\tTime to Complete: 00:43:33\n",
      "Episode 2050\tAverage Score: 0.42\tAverage Time Per Episode: 0:00:01.099498\tTime to Complete: 00:54:03\n",
      "\n",
      "Solved! Episode: 2059, Solved after 1959 episodes! Average score over last 100 episodes: 0.507600007597357\n"
     ]
    },
    {
     "data": {
      "image/png": "[encoded data removed]",
      "text/plain": [
       "<Figure size 432x288 with 1 Axes>"
      ]
     },
     "metadata": {
      "needs_background": "light"
     },
     "output_type": "display_data"
    }
   ],
   "source": [
    "import torch\n",
    "import datetime\n",
    "from collections import deque\n",
    "import matplotlib.pyplot as plt\n",
    "%matplotlib inline\n",
    "\n",
    "def ddpg(n_episodes=5000, max_t=1200, max_score_over=100, print_every=50):\n",
    "    scores_deque = deque(maxlen=max_score_over)\n",
    "    scores = []\n",
    "    times = []\n",
    "    for i_episode in range(1, n_episodes+1):\n",
    "        scores_a = .0\n",
    "        scores_b = .0\n",
    "        env_info = env.reset(train_mode=True)[brain_name]\n",
    "        states = env_info.vector_observations\n",
    "        time_a = datetime.datetime.now()\n",
    "        agent.reset()\n",
    "        for t in range(max_t):\n",
    "            actions = agent.act(states)\n",
    "\n",
    "            env_info = env.step(actions)[brain_name]\n",
    "            next_states = env_info.vector_observations\n",
    "            rewards = env_info.rewards\n",
    "            dones = env_info.local_done\n",
    "            scores_a += env_info.rewards[0]\n",
    "            scores_b += env_info.rewards[1]\n",
    "            \n",
    "            # print('\\rEpisode {}\\tScore: {}\\tTimestep: {}\\tAction: {}\\t\\t'.format(i_episode, scores.mean(), t, actions[0]), end=\"\")\n",
    "            \n",
    "            # need to step for each state\n",
    "            # for state, action, reward, next_state, done in zip(states, actions, rewards, next_states, dones):\n",
    "            #     agent.step(state, action, reward, next_state, done)\n",
    "            agent.step(states, actions, rewards, next_states, dones)\n",
    "            \n",
    "            states = next_states\n",
    "            \n",
    "            if np.any(dones):\n",
    "                break\n",
    "                \n",
    "        time_b = datetime.datetime.now()\n",
    "        time = time_b - time_a\n",
    "        times.append(time_b - time_a)\n",
    "        time_average = np.mean(times)\n",
    "        time_remaining = (n_episodes*time_average.total_seconds()-i_episode*time_average.total_seconds())/60/60\n",
    "        \n",
    "        scores.append(max(scores_a, scores_b))\n",
    "        scores_deque.append(max(scores_a, scores_b))\n",
    "\n",
    "        hours = int(time_remaining)\n",
    "        minutes = int((time_remaining*60) % 60)\n",
    "        seconds = int((time_remaining*3600) % 60)\n",
    "\n",
    "        # scores.append(score)\n",
    "        # print('Episode {}\\tAverage Score: {:.2f}\\tAverage Time Per Episode: {}\\tTime to Complete: {:02d}:{:02d}:{:02d}'.format(\n",
    "        #     i_episode,\n",
    "        #     np.mean(scores_deque),\n",
    "        #     time_average,\n",
    "        #     hours,\n",
    "        #     minutes,\n",
    "        #     seconds\n",
    "        # ), end=\"\\n\")\n",
    "        agent.save('checkpoint_actor_ddqn', 'checkpoint_critic_ddqn')\n",
    "        # torch.save(agent.actor_local.state_dict(), 'checkpoint_actor.pth')\n",
    "        # torch.save(agent.critic_local.state_dict(), 'checkpoint_critic.pth')\n",
    "        if i_episode % print_every == 0:\n",
    "            # print('\\rEpisode {}\\tAverage Score: {:.2f}'.format(i_episode, np.mean(scores_deque)))\n",
    "            print('Episode {}\\tAverage Score: {:.2f}\\tAverage Time Per Episode: {}\\tTime to Complete: {:02d}:{:02d}:{:02d}'.format(\n",
    "                i_episode,\n",
    "                np.mean(scores_deque),\n",
    "                time_average,\n",
    "                hours,\n",
    "                minutes,\n",
    "                seconds\n",
    "            ), end=\"\\n\")\n",
    "        if np.mean(scores_deque) > 0.5:\n",
    "            print('\\nSolved! Episode: {}, Solved after {} episodes! Average score over last 100 episodes: {}'.format(\n",
    "                i_episode, i_episode - 100, np.mean(scores_deque)\n",
    "            ))\n",
    "            break\n",
    "            \n",
    "    return scores\n",
    "\n",
    "scores = ddpg()\n",
    "\n",
    "fig = plt.figure()\n",
    "ax = fig.add_subplot(111)\n",
    "plt.plot(np.arange(1, len(scores)+1), scores)\n",
    "plt.ylabel('Score')\n",
    "plt.xlabel('Episode #')\n",
    "plt.show()"
   ]
  },
  {
   "cell_type": "code",
   "execution_count": 13,
   "metadata": {},
   "outputs": [
    {
     "name": "stdout",
     "output_type": "stream",
     "text": [
      "Total score (averaged over agents) this episode: 2.3950000358745456\n"
     ]
    }
   ],
   "source": [
    "import torch\n",
    "\n",
    "agent.load('checkpoint_actor_ddqn')\n",
    "# agent.actor_local.load_state_dict(torch.load('checkpoint_actor.pth', map_location='cpu'))\n",
    "\n",
    "env_info = env.reset(train_mode=False)[brain_name]     # reset the environment    \n",
    "states = env_info.vector_observations                  # get the current state (for each agent)\n",
    "scores = np.zeros(num_agents)                          # initialize the score (for each agent)\n",
    "while True:\n",
    "    actions = agent.act(states)\n",
    "    env_info = env.step(actions)[brain_name]           # send all actions to tne environment\n",
    "    next_states = env_info.vector_observations         # get next state (for each agent)\n",
    "    rewards = env_info.rewards                         # get reward (for each agent)\n",
    "    dones = env_info.local_done                        # see if episode finished\n",
    "    scores += env_info.rewards                         # update the score (for each agent)\n",
    "    states = next_states                               # roll over states to next time step\n",
    "    if np.any(dones):                                  # exit loop if episode finished\n",
    "        break\n",
    "\n",
    "print('Total score (averaged over agents) this episode: {}'.format(np.mean(scores)))"
   ]
  },
  {
   "cell_type": "code",
   "execution_count": 14,
   "metadata": {},
   "outputs": [],
   "source": [
    "env.close()"
   ]
  },
  {
   "cell_type": "code",
   "execution_count": null,
   "metadata": {},
   "outputs": [],
   "source": []
  }
 ],
 "metadata": {
  "kernelspec": {
   "display_name": "drlnd",
   "language": "python",
   "name": "drlnd"
  },
  "language_info": {
   "codemirror_mode": {
    "name": "ipython",
    "version": 3
   },
   "file_extension": ".py",
   "mimetype": "text/x-python",
   "name": "python",
   "nbconvert_exporter": "python",
   "pygments_lexer": "ipython3",
   "version": "3.6.10"
  }
 },
 "nbformat": 4,
 "nbformat_minor": 2
}
